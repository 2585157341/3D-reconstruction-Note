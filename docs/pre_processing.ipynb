{
 "cells": [
  {
   "cell_type": "markdown",
   "metadata": {},
   "source": [
    "# 点云预处理\n",
    "## 一、点云滤波\n",
    "点云滤波(filtering)是点云预处理的第一步，需要滤波的情况有：\n",
    "\n",
    "1. 遮挡等问题造成离群点(outliers)需要去除，e.g., 统计分析方法，半径搜索方法\n",
    "2. 大量数据需要进行下采样(downsample)，e.g., 利用体素下采样\n",
    "3. 噪声数据需要去除(noise remove)，e.g., 点云直通滤波"
   ]
  },
  {
   "cell_type": "markdown",
   "metadata": {},
   "source": [
    "## 二、点云平滑\n",
    "**需要平滑的情况**：\n",
    "\n",
    "1、用RGB-D激光扫描仪等设备扫描物体，尤其扫描较小物体时，往往有测量误差。这些误差所造成的不规则数据如果直接拿来曲面重建的话，会使得重建曲面不光滑或有漏洞，而这种不规则数据很难用统计分析等滤波方法消除；\n",
    "\n",
    "2、后处理过程中，对同一个物体从不同方向进行了多次扫描，然后把扫描结果进行配准，最后得到一个完整的模型，但配准结果不一定准，一面墙可能由于配准误差变成了“两面墙”，不能完全重叠。\n",
    "\n",
    "点云平滑(smoothing)是通过重采样实现的，而重采样是通过移动最小二乘法(MLS)实现的。具体来说，就是用一个函数基(比如二次函数)对某点的一个K邻域用最小二乘法进行拟合，拟合的坐标就是平滑后的点云坐标。"
   ]
  },
  {
   "cell_type": "markdown",
   "metadata": {},
   "source": [
    "## 三、点云法线估计\n",
    "很多曲面重建算法都需要输入有向点云(oriented point cloud)即带法向量的点云，点云法向还可以用于渲染漫反射效果(Lambert定律，光强与入射光线和法向量内积成正比)。\n",
    "\n",
    "对无序点云估计法向量一般采用移动最小二乘法(Moving least square, MLS)。具体做法是对某点的K近邻求协方差矩阵Y，用PCA降维。在[降维算法](https://github.com/GCaptainNemo/dimension-reduction-algorithms) \n",
    "中介绍了PCA可以通过最小重构性和最大方差性两个等价假设推出，而对一个三维点集估计其所在的平面(线性拟合)本质上就是让这些三维点投影到这个平面上的投影距离最小。对协方差矩阵Y进行特征值分解，最小特征值对应特征向量就是该三维点集所在平面的法向量。\n",
    "除此之外，还可以采用加权移动最小二乘法，对距离中心点较远的点赋予更低的权重。\n",
    "\n",
    "用MLS估计法向量会出现二异性问题，因为垂直一个面的法矢有两条，这被称为法线定向问题。对于扫描数据来说，是可以完美定向的，只要取与相机方向夹角小于90°的方向即可。而如果不是扫描得到的点云是无法完美定向的，\n",
    "只能采取一些启发式算法保证局部点云法方向相同。"
   ]
  },
  {
   "cell_type": "markdown",
   "metadata": {},
   "source": [
    "## 四、参考资料\n",
    "[1] [点云滤波-知乎](https://zhuanlan.zhihu.com/p/95983353)\n",
    "\n",
    "[2] [点云重采样平滑](https://blog.csdn.net/qq_30815237/article/details/86301545)\n",
    "\n",
    "[3] [点云法线估计-知乎](https://zhuanlan.zhihu.com/p/56541912)\n",
    "\n",
    "[4] [点云法线定向](http://geometryhub.net/notes/pointcloudnormal)"
   ]
  }
 ],
 "metadata": {
  "kernelspec": {
   "display_name": "Python 3",
   "language": "python",
   "name": "python3"
  },
  "language_info": {
   "codemirror_mode": {
    "name": "ipython",
    "version": 3
   },
   "file_extension": ".py",
   "mimetype": "text/x-python",
   "name": "python",
   "nbconvert_exporter": "python",
   "pygments_lexer": "ipython3",
   "version": "3.7.6"
  }
 },
 "nbformat": 4,
 "nbformat_minor": 4
}
