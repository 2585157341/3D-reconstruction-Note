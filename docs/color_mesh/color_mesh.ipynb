{
 "cells": [
  {
   "cell_type": "markdown",
   "metadata": {},
   "source": [
    "# 彩色网格"
   ]
  },
  {
   "cell_type": "markdown",
   "metadata": {},
   "source": [
    "## 一、介绍\n",
    "彩色网格主要分为两类：\n",
    "1. 彩色顶点网格：网格顶点带有颜色，三角形的颜色由网格顶点颜色插值得到。网格的色彩分辨率等于顶点分辨率。\n",
    "2. 彩色贴图网格：网格的三角形的颜色对应于图像的一个三角片。网格的色彩分辨率等于图像的色彩分辨率。\n",
    "\n",
    "对彩色顶点网格来说，当网格顶点比较少时，色彩信息会损失。彩色贴图网格的色彩分辨率取决于**纹理贴图的分辨率**，与网格顶点分辨率无关。\n",
    "因此同样的网格，纹理贴图方式可以存储高于网格分辨率的色彩信息。"
   ]
  },
  {
   "cell_type": "markdown",
   "metadata": {},
   "source": [
    "##### 1. 彩色顶点网格"
   ]
  },
  {
   "cell_type": "markdown",
   "metadata": {},
   "source": [
    "<p align=\"center\"><img src=\"../../resources/color_mesh/vertex_color.png\" width=50%></p>\n",
    "<h6 align=\"center\">彩色顶点网格</h6>"
   ]
  },
  {
   "cell_type": "markdown",
   "metadata": {},
   "source": [
    "##### 2. 彩色纹理网格"
   ]
  },
  {
   "cell_type": "markdown",
   "metadata": {},
   "source": [
    "<p align=\"center\"><img src=\"../../resources/color_mesh/texture_color.png\" width=50%></p>\n",
    "<h6 align=\"center\">彩色纹理网格</h6>\n"
   ]
  },
  {
   "cell_type": "markdown",
   "metadata": {},
   "source": [
    "## 二、纹理贴图网格的制作\n",
    "制作纹理贴图网格最重要的步骤就是找到网格顶点和图像像素的对应关系，简称**点像对应**。有了网格，图片以及点像对应信息，就可以制作出纹理贴图。另外，不同帧同一点对应的纹理之间可能有色差，这时需要通过图像处理技术进行纹理融合。"
   ]
  },
  {
   "cell_type": "markdown",
   "metadata": {},
   "source": [
    "## 三、参考资料\n",
    "[1] [彩色网格-知乎](https://zhuanlan.zhihu.com/p/85833483)\n"
   ]
  }
 ],
 "metadata": {
  "kernelspec": {
   "display_name": "Python 3",
   "language": "python",
   "name": "python3"
  },
  "language_info": {
   "codemirror_mode": {
    "name": "ipython",
    "version": 3
   },
   "file_extension": ".py",
   "mimetype": "text/x-python",
   "name": "python",
   "nbconvert_exporter": "python",
   "pygments_lexer": "ipython3",
   "version": "3.7.6"
  }
 },
 "nbformat": 4,
 "nbformat_minor": 4
}
