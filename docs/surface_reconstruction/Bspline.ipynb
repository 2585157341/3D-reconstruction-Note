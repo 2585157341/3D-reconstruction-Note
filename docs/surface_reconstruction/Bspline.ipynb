{
 "cells": [
  {
   "cell_type": "markdown",
   "metadata": {},
   "source": [
    "# 基于B样条曲线曲面重建\n",
    "## 一、介绍\n",
    "\n",
    "网上关于B样条曲线曲面重建资料很少，B样条曲线曲面重建一般用于逆向工程，算法速度很慢，无法应用于在线曲面重建任务。\n",
    "\n",
    "基于B样条曲线曲面重建是用一个曲面(流形)拟合所有点，若曲面符合流形假设则有较好的效果，否则效果较差(如下图所示)。对大规模精细场景进行三维重建不用B样条方法，B样条可以用来粗糙地拟合场景地形。"
   ]
  },
  {
   "cell_type": "markdown",
   "metadata": {},
   "source": [
    "<p align=\"center\"><img src=\"../../resources/Bspline/bspline.png\" width=50%></p>\n"
   ]
  },
  {
   "cell_type": "markdown",
   "metadata": {},
   "source": [
    "## 二、参考资料\n",
    "\n",
    "[1] [B-spline](https://blog.csdn.net/ZHANzhenrong/article/details/107850052)"
   ]
  }
 ],
 "metadata": {
  "kernelspec": {
   "display_name": "Python 3",
   "language": "python",
   "name": "python3"
  },
  "language_info": {
   "codemirror_mode": {
    "name": "ipython",
    "version": 3
   },
   "file_extension": ".py",
   "mimetype": "text/x-python",
   "name": "python",
   "nbconvert_exporter": "python",
   "pygments_lexer": "ipython3",
   "version": "3.7.6"
  }
 },
 "nbformat": 4,
 "nbformat_minor": 4
}
