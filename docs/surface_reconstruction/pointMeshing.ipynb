{
 "cells": [
  {
   "cell_type": "markdown",
   "metadata": {},
   "source": [
    "# 点云网格化算法\n",
    "## 一、介绍\n",
    "这里介绍三种直接通过点云进行网格化的算法，包括凸包算法、Ear Clipping三角化算法和贪婪投影三角化算法。"
   ]
  },
  {
   "cell_type": "markdown",
   "metadata": {},
   "source": [
    "## 二、原理\n",
    "### 2.1 凸包算法\n",
    "凸包(convex hull)在仓库[delaunay triangulation](https://github.com/GCaptainNemo/Delaunay-triangulation) 中有介绍。凸包算法可以当成一个曲面重建算法，\n",
    "它假设曲面为点集所确定的凸包。这是一个非常强的假设，因此凸包算法产生不了精细的曲面，常常用来做二维的面积估算和三维的体积估算。最常用的凸包算法是Graham扫描法和Jarvis步进法。"
   ]
  },
  {
   "cell_type": "markdown",
   "metadata": {},
   "source": [
    "### 2.2 Ear Clipping三角化算法\n",
    "耳切法(Ear Clipping)是对**简单多边形**进行三角剖分的算法，简单多边形的定义是每个顶点被两条边所共享，而边的每个交点都是顶点。\n",
    "\n",
    "一个$n$个顶点的多变形可以剖分成$n-2$个三角形，三角剖分不唯一，耳切法的思路是\n",
    "\n",
    "1. 将多边形的一个顶点与它相邻两个顶点组成三角形\n",
    "2. 如果三角形内部不存在这个多边形的其它顶点，就将这个三角形当做一个ear，用相邻顶点切掉这个ear\n",
    "3. 重复1,2操作，直到多边形剩三个顶点，这样多边形就完成了三角剖分\n",
    "\n",
    "耳切法不能直接用于曲面重建，需要先将隐式曲面转变成一个多边形的形式再进行三角化。"
   ]
  },
  {
   "cell_type": "markdown",
   "metadata": {},
   "source": [
    "### 2.3 贪婪投影三角化算法\n",
    "贪婪投影三角化算法需要输入点云和每个点的估计法向量，具体思路为\n",
    "1. 将点云中一点及其邻域内的点，朝该点法向量对应平面投影。\n",
    "2. 然后在该平面上进行Delaunay三角剖分，获得该点关于邻域点的拓扑结构。\n",
    "\n",
    "贪婪投影三角法是一种对原始点云进行快速三角化的算法，该算法假设曲面光滑，点云密度均匀。"
   ]
  },
  {
   "cell_type": "markdown",
   "metadata": {},
   "source": [
    "## 三、参考资料\n",
    "[1] [delaunay triangulation](https://github.com/GCaptainNemo/Delaunay-triangulation)\n",
    "\n",
    "[2] [convex-hull algorithm](https://blog.csdn.net/ZHANzhenrong/article/details/107740913)\n",
    "\n",
    "[3] [ear-clipping](https://blog.csdn.net/u012871784/article/details/50418817)\n",
    "\n",
    "[4] [greedy-projection-triangulation](https://blog.csdn.net/qq_35768238/article/details/80577623)"
   ]
  },
  {
   "cell_type": "code",
   "execution_count": null,
   "metadata": {},
   "outputs": [],
   "source": []
  }
 ],
 "metadata": {
  "kernelspec": {
   "display_name": "Python 3",
   "language": "python",
   "name": "python3"
  },
  "language_info": {
   "codemirror_mode": {
    "name": "ipython",
    "version": 3
   },
   "file_extension": ".py",
   "mimetype": "text/x-python",
   "name": "python",
   "nbconvert_exporter": "python",
   "pygments_lexer": "ipython3",
   "version": "3.7.6"
  }
 },
 "nbformat": 4,
 "nbformat_minor": 4
}
